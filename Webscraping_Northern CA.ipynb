{
  {
   "cell_type": "code",
   "execution_count": 2,
   "id": "3630b6c8",
   "metadata": {},
   "outputs": [],
   "source": [
    "from selenium import webdriver\n",
    "from selenium.webdriver.common.keys import Keys\n",
    "import pandas as pd\n",
    "from selenium.webdriver.common.by import By\n",
    "import time\n",
    "from selenium.common.exceptions import NoSuchElementException"
   ]
  },
  {
   "cell_type": "code",
   "execution_count": 3,
   "id": "879495ee",
   "metadata": {},
   "outputs": [],
   "source": [
    "from selenium import webdriver\n",
    "\n",
    "chrome_driver_path = '/Users/harshithamadihalli/Downloads/chromedriver-mac-arm64/chromedriver'\n",
    "driver = webdriver.Chrome(executable_path=chrome_driver_path)\n",
    "driver.get('https://www.essexapartmenthomes.com/')\n"
   ]
  },
  {
   "cell_type": "code",
   "execution_count": 4,
   "id": "8c5b0be3",
   "metadata": {},
   "outputs": [],
   "source": [
    "driver.find_element(By.XPATH,'//*[@class=\"text-card__columns__col\"]/span/a').click()"
   ]
  },
  {
   "cell_type": "code",
   "execution_count": 5,
   "id": "2f7a9187",
   "metadata": {},
   "outputs": [],
   "source": [
    "button = driver.find_element(By.XPATH, '//a[contains(@href, \"Northern California\")]/span[text()=\"Northern California\"]')\n",
    "button.click()\n",
    "time.sleep(5)"
   ]
  },
  {
   "cell_type": "code",
   "execution_count": 6,
   "id": "546a3309",
   "metadata": {},
   "outputs": [
    {
     "name": "stdout",
     "output_type": "stream",
     "text": [
      "https://www.essexapartmenthomes.com/apartments/san-ramon/bel-air\n",
      "https://www.essexapartmenthomes.com/apartments/san-ramon/canyon-oaks-at-windemere\n",
      "https://www.essexapartmenthomes.com/apartments/sunnyvale/via\n",
      "https://www.essexapartmenthomes.com/apartments/san-ramon/mill-creek-at-windemere\n",
      "https://www.essexapartmenthomes.com/apartments/san-mateo/lakeshore-landing\n",
      "https://www.essexapartmenthomes.com/apartments/san-mateo/hillsdale-garden\n",
      "https://www.essexapartmenthomes.com/apartments/sunnyvale/the-montclaire\n",
      "https://www.essexapartmenthomes.com/apartments/sunnyvale/summerhill-park\n",
      "https://www.essexapartmenthomes.com/apartments/san-jose/patina-at-midtown\n",
      "https://www.essexapartmenthomes.com/apartments/san-jose/360-residences\n",
      "https://www.essexapartmenthomes.com/apartments/redwood-city/township\n",
      "https://www.essexapartmenthomes.com/apartments/san-jose/101-san-fernando\n",
      "https://www.essexapartmenthomes.com/apartments/san-jose/silver\n",
      "https://www.essexapartmenthomes.com/apartments/san-jose/century-towers\n",
      "https://www.essexapartmenthomes.com/apartments/san-jose/palma-sorrento-at-palm-valley\n",
      "https://www.essexapartmenthomes.com/apartments/san-francisco/500-folsom\n",
      "https://www.essexapartmenthomes.com/apartments/san-francisco/mb360\n",
      "https://www.essexapartmenthomes.com/apartments/richmond/san-marcos\n",
      "https://www.essexapartmenthomes.com/apartments/santa-clara/villa-granada\n",
      "https://www.essexapartmenthomes.com/apartments/santa-clara/marina-cove\n",
      "https://www.essexapartmenthomes.com/apartments/hayward/city-centre\n",
      "https://www.essexapartmenthomes.com/apartments/hayward/city-view\n",
      "https://www.essexapartmenthomes.com/apartments/campbell/the-commons\n",
      "https://www.essexapartmenthomes.com/apartments/fremont/the-woods\n",
      "https://www.essexapartmenthomes.com/apartments/fremont/mission-peaks-ii\n",
      "https://www.essexapartmenthomes.com/apartments/fremont/paragon\n",
      "https://www.essexapartmenthomes.com/apartments/emeryville/avenue-64\n",
      "https://www.essexapartmenthomes.com/apartments/emeryville/the-courtyards-at-65th-street\n",
      "https://www.essexapartmenthomes.com/apartments/emeryville/emme\n",
      "https://www.essexapartmenthomes.com/apartments/berkeley/fourth-and-u\n",
      "https://www.essexapartmenthomes.com/apartments/belmont/belmont-terrace\n",
      "https://www.essexapartmenthomes.com/apartments/oakland/the-grand\n",
      "https://www.essexapartmenthomes.com/apartments/oakland/the-landing-at-jack-london-square\n",
      "https://www.essexapartmenthomes.com/apartments/tiburon/vista-belvedere\n",
      "https://www.essexapartmenthomes.com/apartments/sunnyvale/bristol-commons\n",
      "https://www.essexapartmenthomes.com/apartments/sunnyvale/brookside-oaks\n",
      "https://www.essexapartmenthomes.com/apartments/san-ramon/crow-canyon\n",
      "https://www.essexapartmenthomes.com/apartments/sunnyvale/windsor-ridge\n",
      "https://www.essexapartmenthomes.com/apartments/san-ramon/foothill-twin-creeks-condos\n",
      "https://www.essexapartmenthomes.com/apartments/san-rafael/deer-valley\n",
      "https://www.essexapartmenthomes.com/apartments/sunnyvale/lawrence-station\n",
      "https://www.essexapartmenthomes.com/apartments/sunnyvale/magnolia-square\n",
      "https://www.essexapartmenthomes.com/apartments/san-mateo/station-park-green\n",
      "https://www.essexapartmenthomes.com/apartments/sunnyvale/solstice\n",
      "https://www.essexapartmenthomes.com/apartments/san-jose/bella-villagio\n",
      "https://www.essexapartmenthomes.com/apartments/san-jose/mio\n",
      "https://www.essexapartmenthomes.com/apartments/sunnyvale/reed-square\n",
      "https://www.essexapartmenthomes.com/apartments/san-jose/meridian-at-midtown\n",
      "https://www.essexapartmenthomes.com/apartments/santa-cruz/chestnut-street\n",
      "https://www.essexapartmenthomes.com/apartments/san-jose/marquis\n",
      "https://www.essexapartmenthomes.com/apartments/san-jose/fountains-at-river-oaks\n",
      "https://www.essexapartmenthomes.com/apartments/san-jose/the-esplanade\n",
      "https://www.essexapartmenthomes.com/apartments/san-jose/villa-veneto-at-palm-valley\n",
      "https://www.essexapartmenthomes.com/apartments/san-jose/epic\n",
      "https://www.essexapartmenthomes.com/apartments/union-city/verandas\n",
      "https://www.essexapartmenthomes.com/apartments/san-jose/enso\n",
      "https://www.essexapartmenthomes.com/apartments/redwood-city/radius\n",
      "https://www.essexapartmenthomes.com/apartments/san-jose/waterford-place\n",
      "https://www.essexapartmenthomes.com/apartments/san-jose/the-carlyle\n",
      "https://www.essexapartmenthomes.com/apartments/san-jose/willow-lake\n",
      "https://www.essexapartmenthomes.com/apartments/san-jose/santa-palmia-at-palm-valley\n",
      "https://www.essexapartmenthomes.com/apartments/san-francisco/bennett-lofts\n",
      "https://www.essexapartmenthomes.com/apartments/san-francisco/fox-plaza\n",
      "https://www.essexapartmenthomes.com/apartments/pleasanton/the-galloway\n",
      "https://www.essexapartmenthomes.com/apartments/san-francisco/park-west\n",
      "https://www.essexapartmenthomes.com/apartments/dublin/connolly-station\n",
      "https://www.essexapartmenthomes.com/apartments/santa-clara/1000-kiely\n",
      "https://www.essexapartmenthomes.com/apartments/santa-clara/le-parc\n",
      "https://www.essexapartmenthomes.com/apartments/santa-clara/mylo-santa-clara\n",
      "https://www.essexapartmenthomes.com/apartments/santa-clara/riley-square\n",
      "https://www.essexapartmenthomes.com/apartments/foster-city/fosters-landing\n",
      "https://www.essexapartmenthomes.com/apartments/walnut-creek/brio\n",
      "https://www.essexapartmenthomes.com/apartments/walnut-creek/agora-at-south-main\n",
      "https://www.essexapartmenthomes.com/apartments/newark/bridgeport\n",
      "https://www.essexapartmenthomes.com/apartments/lafayette/lafayette-highlands\n",
      "https://www.essexapartmenthomes.com/apartments/fremont/boulevard\n",
      "https://www.essexapartmenthomes.com/apartments/fremont/briarwood-at-central-park\n",
      "https://www.essexapartmenthomes.com/apartments/fremont/the-rexford\n",
      "https://www.essexapartmenthomes.com/apartments/fremont/mission-peaks\n",
      "https://www.essexapartmenthomes.com/apartments/fremont/stevenson-place\n",
      "https://www.essexapartmenthomes.com/apartments/mountain-view/regency-at-mountain-view\n",
      "https://www.essexapartmenthomes.com/apartments/milpitas/apex\n",
      "https://www.essexapartmenthomes.com/apartments/cupertino/sage-at-cupertino\n",
      "https://www.essexapartmenthomes.com/apartments/cupertino/the-pointe-at-cupertino\n",
      "https://www.essexapartmenthomes.com/apartments/menlo-park/777-hamilton\n",
      "85\n"
     ]
    }
   ],
   "source": [
    "try:\n",
    "    # Find all elements containing \"See Details\" links for all houses\n",
    "    see_details_elements = driver.find_elements(By.XPATH, '//a[@class=\"button-primary ga-nav\"]')\n",
    "\n",
    "    # Extract the URLs for all \"See Details\" links\n",
    "    see_details_urls = [element.get_attribute(\"href\") for element in see_details_elements]\n",
    "\n",
    "    # Iterate over the URLs and print them\n",
    "    for url in see_details_urls:\n",
    "        print(url)\n",
    "        \n",
    "except Exception as e:\n",
    "    print(f\"Failed to extract 'See Details' links: {e}\")\n",
    "print(len(see_details_urls))\n",
    "\n"
   ]
  },
  {
   "cell_type": "code",
   "execution_count": 7,
   "id": "e4c51f9b",
   "metadata": {},
   "outputs": [
    {
     "name": "stdout",
     "output_type": "stream",
     "text": [
      "['Bel Air', 'Canyon Oaks at Windemere', 'Via', 'Mill Creek at Windemere', 'Lakeshore Landing', 'Hillsdale Garden', 'The Montclaire', 'Summerhill Park', 'Patina at Midtown', '360 Residences', 'Township', '101 San Fernando', 'Silver', 'Century Towers', 'Palma Sorrento at Palm Valley', '500 Folsom', 'MB360', 'San Marcos', 'Villa Granada', 'Marina Cove', 'City Centre', 'City View', 'The Commons', 'The Woods', 'Mission Peaks II', 'Paragon', 'Avenue 64', 'The Courtyards at 65th Street', 'Emme', 'Fourth & U', 'Belmont Terrace', 'The Grand', 'The Landing at Jack London Square', 'Vista Belvedere', 'Bristol Commons', 'Brookside Oaks', 'Crow Canyon', 'Windsor Ridge', 'Foothill - Twin Creeks Condos', 'Deer Valley', 'Lawrence Station', 'Magnolia Square', 'Station Park Green', 'Solstice', 'Bella Villagio', 'Mio', 'Reed Square', 'Meridian at Midtown', 'Chestnut Street', 'Marquis', 'Fountains at River Oaks', 'The Esplanade', 'Villa Veneto at Palm Valley', 'Epic', 'Verandas', 'Enso', 'Radius', 'Waterford Place', 'The Carlyle', 'Willow Lake', 'Santa Palmia at Palm Valley', 'Bennett Lofts', 'Fox Plaza', 'The Galloway', 'Park West', 'Connolly Station', '1000 Kiely', 'Le Parc', 'Mylo Santa Clara', 'Riley Square', \"Foster's Landing\", 'Brio', 'Agora at South Main', 'Bridgeport', 'Lafayette Highlands', 'Boulevard', 'Briarwood at Central Park', 'The Rexford', 'Mission Peaks', 'Stevenson Place', 'Regency at Mountain View', 'Apex', 'Sage at Cupertino', 'The Pointe at Cupertino', '777 Hamilton']\n",
      "['$2,027-$3,326', '$2,233-$2,999', '$2,799-$3,799', '$2,133-$3,304', '$2,614-$3,509', '$2,049-$3,829', '$2,244-$3,304', '$2,824-$3,429', '$2,249-$3,019', '$2,699-$8,347', '$2,969-$3,119', '$2,049-$3,609', '$2,099-$3,134', '$2,479-$3,904', '$2,519-$3,309', '$2,694-$6,159', '$2,599-$4,414', '$2,333-$3,039', '$2,699-$3,684', '$2,629-$3,374', '$2,279-$3,699', '$1,749-$2,800', '$2,114-$2,999', '$1,899-$2,845', '$2,359-$3,089', '$2,474-$3,469', '$2,246-$4,098', '$2,435-$3,273', '$2,038-$4,179', '$2,139-$3,269', '$2,809-$4,604', '$2,069-$3,943', '$2,009-$3,349', 'Starting from $4,087', '$2,639-$3,659', '$2,624-$3,249', '$2,449-$3,723', '$2,649-$3,299', '$2,924-$3,009', '$2,481-$3,323', '$2,849-$3,544', '$2,849-$3,433', '$2,667-$4,249', '$2,894-$4,624', '$2,709-$4,049', '$3,099-$3,149', '$3,359-$3,374', '$2,369-$3,649', '$2,976-$4,013', '$2,209-$3,254', '$2,694-$3,364', '$2,719-$3,564', '$3,099-$3,455', '$2,529-$4,124', '$2,051-$2,321', '$2,249-$3,459', '$3,109-$4,954', '$2,459-$3,254', '$2,394-$3,299', '$2,454-$4,179', '$2,599-$3,904', '$2,469-$3,749', '$1,988-$2,814', '$2,219-$3,649', '$3,014-$4,019', '$2,400-$3,869', '$3,029-$3,894', '$2,864-$3,219', '$2,749-$4,654', '$2,461-$2,945', '$2,714-$3,949', '$2,444-$3,334', 'Starting from $4,327', '$2,417-$2,662', '$3,099-$3,249', '$2,299-$2,779', '$1,945-$2,749', '$2,608-$3,563', '$2,499-$4,114', '$2,004-$2,729', '$2,899-$4,059', '$2,349-$3,924', '$2,519-$3,289', 'Starting from $3,494', '$3,299-$4,732']\n",
      "['| STUDIO, 1, 2 BEDROOMS', '| 1, 2, 3 BEDROOMS', '| 1, 2 BEDROOMS', '| 1, 2, 3 BEDROOMS', '| 1, 2 BEDROOMS', '| STUDIO, 1, 2, 3 BEDROOMS', '| STUDIO, 1, 2 BEDROOMS', '| 1, 2 BEDROOMS', '| STUDIO, 1, 2 BEDROOMS', '| 1, 2, 3 BEDROOMS', '| 1, 2 BEDROOMS', '| STUDIO, 1, 2, 3 BEDROOMS', '| STUDIO, 1, 2 BEDROOMS', '| 1, 2 BEDROOMS', '| 1, 2, 3 BEDROOMS', '| STUDIO, 1, 2 BEDROOMS', '| STUDIO, 1, 2 BEDROOMS', '| 1, 2 BEDROOMS', '| 1, 2 BEDROOMS', '| 1, 2 BEDROOMS', '| STUDIO, 1, 2, 3 BEDROOMS', '| STUDIO, 1, 2 BEDROOMS', '| STUDIO, 1, 2 BEDROOMS', '| STUDIO, 1, 2 BEDROOMS', '| 1, 2 BEDROOMS', '| 1, 2 BEDROOMS', '| STUDIO, 1, 2, 3 BEDROOMS', '| 1, 2 BEDROOMS', '| STUDIO, 1, 2, 3 BEDROOMS', '| 1, 2 BEDROOMS', '| 1, 2, 3 BEDROOMS', '| STUDIO, 1, 2, 3 BEDROOMS', '| STUDIO, 1, 2 BEDROOMS', '| 1, 2 BEDROOMS', '| 1, 2 BEDROOMS', '| STUDIO, 1, 2 BEDROOMS', '| 1, 2, 3 BEDROOMS', '| 1, 2 BEDROOMS', '| 2 BEDROOMS', '| 1, 2, 3 BEDROOMS', '| 1, 2 BEDROOMS', '| 1, 2, 3 BEDROOMS', '| STUDIO, 1, 2, 3 BEDROOMS', '| STUDIO, 1, 2 BEDROOMS', '| 1, 2, 3 BEDROOMS', '| 1, 2 BEDROOMS', '| 1, 2 BEDROOMS', '| STUDIO, 1, 2 BEDROOMS', '| 1, 2 BEDROOMS', '| STUDIO, 1, 2 BEDROOMS', '| 1, 2 BEDROOMS', '| STUDIO, 1, 2, 3 BEDROOMS', '| 1, 2, 3 BEDROOMS', '| STUDIO, 1, 2, 3 BEDROOMS', '| STUDIO, 1, 2 BEDROOMS', '| STUDIO, 1, 2 BEDROOMS', '| 1, 2, 3 BEDROOMS', '| 1, 2, 3 BEDROOMS', '| 1, 2, 3 BEDROOMS', '| 1, 2, 3 BEDROOMS', '| 1, 2, 3 BEDROOMS', '| STUDIO, 1, 2, 3, 4 BEDROOMS', '| STUDIO, 1, 2 BEDROOMS', '| STUDIO, 1, 2, 3 BEDROOMS', '| STUDIO, 1, 2 BEDROOMS', '| 1, 2, 3 BEDROOMS', '| 1, 2, 3 BEDROOMS', '| 1, 2 BEDROOMS', '| 1, 2 BEDROOMS', '| 1, 2 BEDROOMS', '| 1, 2 BEDROOMS', '| 1, 2 BEDROOMS', '| 2 BEDROOMS', '| 1, 2 BEDROOMS', '| 1, 2, 3 BEDROOMS', '| 1, 2 BEDROOMS', '| STUDIO, 1, 2 BEDROOMS', '| 1, 2, 3 BEDROOMS', '| 1, 2, 3 BEDROOMS', '| 1, 2 BEDROOMS', '| 1, 2, 3 BEDROOMS', '| STUDIO, 1, 2, 3 BEDROOMS', '| STUDIO, 1, 2 BEDROOMS', '| 2, 3 BEDROOMS', '| 1, 2, 3 BEDROOMS']\n",
      "['Bel Air Apartments\\n2000 Shoreline Drive\\nSan Ramon, CA 94582', 'Canyon Oaks at Windemere Apartments\\n1 Amberstone Ln\\nSan Ramon, CA 94582', 'Via Apartments\\n621 Tasman Dr\\nSunnyvale, CA 94089', 'Mill Creek at Windemere Apartments\\n2100 Waterstone Pl\\nSan Ramon, CA 94582', 'Lakeshore Landing Apartments\\n2717 South Norfolk Street\\nSan Mateo, CA 94403', 'Hillsdale Garden Apartments\\n3500 Edison St\\nSan Mateo, CA 94403', 'The Montclaire Apartments\\n450 N Mathilda Ave\\nSunnyvale, CA 94085', 'Summerhill Park Apartments\\n972 Corte Madera Ave\\nSunnyvale, CA 94085', 'Patina at Midtown Apartments\\n355 Sunol St\\nSan Jose, CA 95126', '360 Residences Apartments\\n360 S Market Street\\nSan Jose, CA 95113', 'Township Apartments\\n333 Main St\\nRedwood City, CA 94063', '101 San Fernando Apartments\\n101 E San Fernando St Ste 100\\nSan Jose, CA 95112', 'Silver Apartments\\n333 Sunol Street\\nSan Jose, CA 95126', 'Century Towers Apartments\\n1729 N. First Street\\nSan Jose, CA 95112', 'Palma Sorrento at Palm Valley Apartments\\n250 Palm Valley Blvd\\nSan Jose, CA 95123', '500 Folsom Apartments\\n500 Folsom St.\\nSan Francisco, CA 94105', 'MB360 Apartments\\n1200 4th Street\\nSan Francisco, CA 94158', 'San Marcos Apartments\\n2601 Hilltop Dr\\nRichmond, CA 94806', 'Villa Granada Apartments\\n3595 Granada Avenue\\nSanta Clara, CA 95051', 'Marina Cove Apartments\\n3480 Granada Ave\\nSanta Clara, CA 95051', 'City Centre Apartments\\n22800 Meridian Drive\\nHayward, CA 94541', 'City View Apartments\\n25200 Carlos Bee Blvd.\\nHayward, CA 94542', 'The Commons Apartments\\n275 Union Ave\\nCampbell, CA 95008', 'The Woods Apartments\\n40640 High St\\nFremont, CA 94538', 'Mission Peaks II Apartments\\n39451 Gallaudet Drive\\nFremont, CA 94538', 'Paragon Apartments\\n3700 Beacon Avenue\\nFremont, CA 94538', 'Avenue 64 Apartments\\n6399 Christie Avenue\\nEmeryville, CA 94608', 'The Courtyards at 65th Street Apartments\\n1465 65th St\\nEmeryville, CA 94608', 'Emme Apartments\\n6350 Christie Ave\\nEmeryville, CA 94608', 'Fourth & U Apartments\\n2020 Fourth St\\nBerkeley, CA 94710', 'Belmont Terrace Apartments\\n1060 Continentals Way\\nBelmont, CA 94002', 'The Grand Apartments\\n100 Grand Ave\\nOakland, CA 94612', 'The Landing at Jack London Square Apartments\\n101 Embarcadero West\\nOakland, CA 94607', 'Vista Belvedere Apartments\\n65 Red Hill Cir\\nTiburon, CA 94920', 'Bristol Commons Apartments\\n732 E. Evelyn Ave\\nSunnyvale, CA 94086', 'Brookside Oaks Apartments\\n1651 Belleville Way\\nSunnyvale, CA 94087', 'Crow Canyon Apartments\\n1700 Promontory Lane\\nSan Ramon, CA 94583', 'Windsor Ridge Apartments\\n829 E Evelyn Ave\\nSunnyvale, CA 94086', 'Foothill - Twin Creek Condos Apartments\\n1110 Harness Dr\\nSan Ramon, CA 94583', 'Deer Valley Apartments\\n2500 Deer Valley Road\\nSan Rafael, CA 94903', 'Lawrence Station Apartments\\n1271 Lawrence Station Road\\nSunnyvale, CA 94089', 'Magnolia Square Apartments\\n107 S Mary Ave\\nSunnyvale, CA 94086', 'Station Park Green Apartments\\n430 Station Park Circle, Suite 100.\\nSan Mateo, CA 94402', 'Solstice Apartments\\n299 W. Washington Avenue\\nSunnyvale, CA 94086', 'Bella Villagio Apartments\\n383 Vista Roma Way\\nSan Jose, CA 95136', 'Mio Apartments\\n688 N. 7th St\\nSan Jose, CA 95112', 'Reed Square Apartments\\n1070 Reed Avenue\\nSunnyvale, CA 94086', 'Meridian at Midtown Apartments\\n1432 West San Carlos Street\\nSan Jose, CA 95126', 'Chestnut Street Apartments\\n143 Chestnut St\\nSanta Cruz, CA 95060', 'Marquis Apartments\\n817 N 10th St\\nSan Jose, CA 95112', 'Fountains at River Oaks Apartments\\n373 River Oaks Circle\\nSan Jose, CA 95134', 'The Esplanade Apartments\\n350 E. Taylor Street\\nSan Jose, CA 95112', 'Villa Veneto at Palm Valley Apartments\\n350 La Strada Dr\\nSan Jose, CA 95123', 'Epic Apartments\\n600 Epic Way\\nSan Jose, CA 95134', 'Verandas Apartments\\n33 Union Square\\nUnion City, CA 94587', 'Enso Apartments\\n175 Baypointe Parkway\\nSan Jose, CA 95134', 'Radius Apartments\\n620 Veterans Blvd.\\nRedwood City, CA 94063', 'Waterford Place Apartments\\n1700 N 1st St\\nSan Jose, CA 95112', 'The Carlyle Apartments\\n2909 Nieman Blvd\\nSan Jose, CA 95148', 'Willow Lake Apartments\\n1331 Lakeshore Circle\\nSan Jose, CA 95131', 'Santa Palmia at Palm Valley Apartments\\n150 Palm Valley Blvd, Suite 200\\nSan Jose, CA 95123', 'Bennett Lofts Apartments\\n530 Brannan Street\\nSan Francisco, CA 94107', 'Fox Plaza Apartments\\n1390 Market St Ste 107\\nSan Francisco, CA 94102', 'The Galloway Apartments\\n4863 Willow Road\\nPleasanton, CA 94588', 'Park West Apartments\\n1201 Funston Ave\\nSan Francisco, CA 94122', 'Connolly Station Apartments\\n7550 St Patrick Way\\nDublin, CA 94568', '1000 Kiely Apartments\\n1000 Kiely Blvd.\\nSanta Clara, CA 95051', 'Le Parc Apartments\\n440 N Winchester Blvd\\nSanta Clara, CA 95050', 'Mylo Santa Clara Apartments\\n3710 El Camino Real\\nSanta Clara, CA 95051', 'Riley Square Apartments\\n3707 Poinciana Drive\\nSanta Clara, CA 95051', \"Foster's Landing Apartments\\n700 Bounty Drive\\nFoster City, CA 94404\", 'Brio Apartments\\n161 N Civic Dr.\\nWalnut Creek, CA 94596', 'Agora at South Main Apartments\\n1500 Newell Ave\\nWalnut Creek, CA 94549', 'Bridgeport Apartments\\n36826 Cherry St\\nNewark, CA 94560', 'Lafayette Highlands Apartments\\n1076 Carol Lane\\nLafayette, CA 94549', 'Boulevard Apartments\\n40001 Fremont Blvd\\nFremont, CA 94538', 'Briarwood at Central Park Apartments\\n4200 Bay St\\nFremont, CA 94538', 'The Rexford Apartments\\n3400 Country Drive\\nFremont, CA 94536', 'Mission Peaks Apartments\\n1401 Red Hawk Circle\\nFremont, CA 94538', 'Stevenson Place Apartments\\n4141 Stevenson Blvd\\nFremont, CA 94538', 'Regency at Mountain View Apartments\\n333 Escuela Avenue\\nMountain View, CA 94040', 'Apex Apartments\\n1102 S. Abel St\\nMilpitas, CA 95035', 'Sage at Cupertino Apartments\\n175 Calvert Drive\\nCupertino, CA 95014', 'The Pointe at Cupertino Apartments\\n19920 Olivewood St\\nCupertino, CA 95014', '777 Hamilton Apartments\\n777 Hamilton Ave\\nMenlo Park, CA 94025']\n",
      "['Pet-washing station', 'Fitness center', 'Fitness center', 'Fitness center', 'Fitness center', 'Fitness center', 'Fitness center', 'Fitness center', 'Fitness center', 'Fitness center', 'BBQ area', 'Smart home technology', 'Clubhouse', 'Fitness center', 'Fitness center', 'Fitness center', 'Swimming pool', 'Fitness center', 'Fitness center', 'Swimming pool', 'Fitness center', 'Swimming pool', 'Dog park', 'Fitness center', 'Swimming pool', 'Fitness center', 'Clubhouse', 'Fitness center', 'Swimming pool', 'Clubhouse', 'Smart home technology', 'Rooftop terrace', 'Fitness center', 'Swimming pool', 'Fitness center', 'Fitness center', 'Clubhouse', 'Fitness center', 'Fitness center', 'Fitness center', 'Fitness center', 'Fitness center', 'Smart home technology', 'Fitness center', 'Swimming pool', 'Fitness center', 'Fitness center', 'Dog park', 'BBQ area', 'Rooftop terrace', 'Fitness center', 'Fitness center', 'Fitness center', 'Clubhouse', 'Swimming pool', 'Clubhouse', 'Swimming pool', 'Fitness center', 'Fitness center', 'Fitness center', 'Fitness center', 'On-site laundry', '24/7 emergency maintenance', 'Fitness center', 'Swimming pool', 'Swimming pool', 'Swimming pool', 'Fitness center', 'Dog park', 'Fitness center', 'Swimming pool', 'Fitness center', 'Clubhouse', 'Smart home technology', 'Smart home technology', 'Fitness center', 'Fitness center', 'Fitness center', 'Swimming pool', 'Fitness center', 'Clubhouse', 'Fitness center', 'Fitness center', 'Fitness center', 'Clubhouse']\n",
      "['Fitness center', 'Swimming pool', 'Swimming pool', 'Swimming pool', 'Swimming pool', 'Swimming pool', 'Swimming pool', 'Swimming pool', 'Swimming pool', 'Swimming pool', 'Fitness center', 'Fitness center', 'Fitness center', 'Swimming pool', 'Swimming pool', 'Rooftop terrace', 'Fitness center', 'Swimming pool', 'Swimming pool', 'Fitness center', 'Swimming pool', 'Fitness center', 'Swimming pool', 'Swimming pool', 'Fitness center', 'Swimming pool', 'Swimming pool', 'Swimming pool', 'Fitness center', 'Fitness center', 'Fitness center', 'Fitness center', 'Swimming pool', 'Great views', 'Swimming pool', 'Swimming pool', 'Fitness center', 'Swimming pool', 'Swimming pool', 'Swimming pool', 'Swimming pool', 'Swimming pool', 'Swimming pool', 'Swimming pool', 'Fitness center', 'Spa', 'Smart home technology', 'Fitness center', 'Dog park', 'Swimming pool', 'Swimming pool', 'Swimming pool', 'Swimming pool', 'Fitness center', 'Fitness center', 'Swimming pool', 'Fitness center', 'Swimming pool', 'Swimming pool', 'Swimming pool', 'Swimming pool', 'Ultrafast Internet connectivity', 'Fitness center', 'Swimming pool', 'Dog park', 'Fitness center', 'Clubhouse', 'Swimming pool', 'Swimming pool', 'Swimming pool', 'Fitness center', 'Swimming pool', 'Swimming pool', 'Swimming pool', 'Fitness center', 'Swimming pool', 'Swimming pool', 'Swimming pool', 'Fitness center', 'Swimming pool', 'Swimming pool', 'Swimming pool', 'Swimming pool', 'Swimming pool', 'Dog park']\n",
      "['Clubroom', 'Smart home technology', 'Clubhouse', 'Spa', 'Outdoor fireplace', 'Dog park', 'Clubhouse', 'Clubhouse', 'Rooftop terrace', 'Clubroom', 'Clubroom', 'Ultrafast Internet connectivity', 'Swimming pool', 'Rooftop terrace', 'Spa', 'Clubhouse', 'Clubhouse', 'Pet friendly', 'Clubhouse', 'Clubhouse', 'Resident lounge', 'Tennis court', 'Fitness center', 'Ultrafast Internet connectivity', 'Ultrafast Internet connectivity', 'Ultrafast Internet connectivity', 'Fitness center', 'Clubhouse', 'Rooftop terrace', 'Ultrafast Internet connectivity', 'Swimming pool', 'Spa', 'Ultrafast Internet connectivity', 'Smart home technology', 'Ultrafast Internet connectivity', 'Ultrafast Internet connectivity', 'Swimming pool', 'Ultrafast Internet connectivity', 'Ultrafast Internet connectivity', 'Ultrafast Internet connectivity', 'Clubhouse', 'Dog park', 'Fitness center', 'Clubhouse', 'Spa', 'Rooftop terrace', 'Ultrafast Internet connectivity', 'Swimming pool', 'Ultrafast Internet connectivity', 'Dog park', 'BBQ area', 'Clubhouse', 'Community courtyard', 'Swimming pool', 'Clubhouse', 'Fitness center', 'Dog park', 'Clubhouse', 'Clubroom', 'Clubhouse', 'Clubhouse', 'Pet friendly', 'Smart home technology', 'Dog park', 'Fitness center', 'Clubhouse', 'Fitness center', 'BBQ area', 'Fitness center', 'Clubhouse', 'Tennis court', 'Clubhouse', 'Fitness center', 'Fitness center', 'Swimming pool', 'Ultrafast Internet connectivity', 'Ultrafast Internet connectivity', 'Clubhouse', 'Clubhouse', 'Clubhouse', 'Bocce ball court', 'Clubhouse', 'Clubhouse', 'Ultrafast Internet connectivity', 'Fitness center']\n",
      "['Up to 6 Weeks FREE!*', 'Up to 2 Weeks FREE!*', 'Up to 2 Weeks FREE!*', 'Up to 3 Weeks FREE!*', 'Up to 1 Week FREE!*', 'Up to 1 Week FREE!*', 'Up to 2 Weeks FREE!*', 'Up to 2 Weeks FREE!*', 'Up to 1 Month FREE!*', 'Up to 6 Weeks FREE!*', 'Up to 2 Weeks FREE!*', 'Up to 1 Month FREE!*', 'Up to 2 Weeks FREE!*', 'Up to 3 Weeks FREE!*', 'Up to 3 Weeks FREE!*', 'Up to 1 Month FREE!*', 'Up to 3 Weeks FREE!*', 'Up to 3 Weeks FREE!*', 'Up to 1 Month FREE!*', 'Up to 2 Weeks FREE!*', 'Up to 5 Weeks FREE!*', 'Get A Gift Card Up to $500!*', 'Up to 2 Weeks FREE!*', 'Up to 5 Weeks FREE!*', 'Up to 2 Weeks FREE!*', 'Up to 3 Weeks FREE!*', 'Up to 2 Weeks FREE!*', 'Up to 2 Weeks FREE!*', 'Up to 6 Weeks FREE!*', 'Up to 5 Weeks FREE!*', 'Up to 1 Week FREE!*', 'Up to 6 Weeks FREE!*', 'Up to $5,770 in Savings!*', 'NA', 'NA', 'NA', 'NA', 'NA', 'NA', 'NA', 'NA', 'NA', 'NA', 'NA', 'NA', 'NA', 'NA', 'NA', 'NA', 'NA', 'NA', 'NA', 'NA', 'NA', 'NA', 'NA', 'NA', 'NA', 'NA', 'NA', 'NA', 'NA', 'NA', 'NA', 'NA', 'NA', 'NA', 'NA', 'NA', 'NA', 'NA', 'NA', 'NA', 'NA', 'NA', 'NA', 'NA', 'NA', 'NA', 'NA', 'NA', 'NA', 'NA', 'NA', 'NA']\n"
     ]
    }
   ],
   "source": [
    "community_title = []\n",
    "price = []\n",
    "Bedrooms = []\n",
    "Address = []\n",
    "top_one_amenity = []\n",
    "top_two_amenity = []\n",
    "top_three_amenity = []\n",
    "offer = []\n",
    "\n",
    "for url in see_details_urls:\n",
    "    driver.get(url)\n",
    "    \n",
    "    community_text = driver.find_element(By.XPATH, '//*[@class=\"community-name-block\"]/h1').text\n",
    "    community_title.append(community_text)\n",
    "#     time.sleep(5)\n",
    "    price_ele = driver.find_elements(By.XPATH, '//*[@class=\"price-container\"]/span[@class=\"price\"]')   \n",
    "    for first_text in price_ele:\n",
    "        price_text = first_text.text\n",
    "        price.append(price_text)\n",
    "        break\n",
    "    time.sleep(5)\n",
    "    Bedrooms_text = driver.find_element(By.XPATH, '//*[@class=\"price-container\"]/span[2]').text\n",
    "    Bedrooms.append(Bedrooms_text)\n",
    "#     time.sleep(5)\n",
    "    Address_text = driver.find_element(By.XPATH, '//*[@rel=\"noopener noreferrer\"]/p').text\n",
    "    Address.append(Address_text)  \n",
    "#     time.sleep(5)\n",
    "    top_one_amenity_text = driver.find_element(By.XPATH, '//*[@class=\"amenities-list__item\"][1]/span').text\n",
    "    top_one_amenity.append(top_one_amenity_text)  \n",
    "#     time.sleep(5)\n",
    "    top_two_amenity_text = driver.find_element(By.XPATH, '//*[@class=\"amenities-list__item\"][2]/span').text\n",
    "    top_two_amenity.append(top_two_amenity_text)\n",
    "#     time.sleep(5)\n",
    "    top_three_amenity_text = driver.find_element(By.XPATH, '//*[@class=\"amenities-list__item\"][3]/span').text\n",
    "    top_three_amenity.append(top_three_amenity_text)\n",
    "    \n",
    "    try:\n",
    "        offer_text = driver.find_element(By.XPATH, '//*[@class=\"property-offer-cta__content-container\"]/h2').text\n",
    "        offer.append(offer_text)\n",
    "    except NoSuchElementException:\n",
    "        offer.append(\"NA\")\n",
    "    time.sleep(5)\n",
    "    driver.back()\n",
    "    \n",
    "    \n",
    "print(community_title)\n",
    "print(price)\n",
    "print(Bedrooms)\n",
    "print(Address)\n",
    "print(top_one_amenity)\n",
    "print(top_two_amenity)\n",
    "print(top_three_amenity)\n",
    "print(offer)"
   ]
  },
  {
   "cell_type": "markdown",
   "id": "42071954",
   "metadata": {},
   "source": [
    "## **************Code to import data to csv *************\n"
   ]
  },
  {
   "cell_type": "code",
   "execution_count": 22,
   "id": "05b5b109",
   "metadata": {},
   "outputs": [
    {
     "name": "stdout",
     "output_type": "stream",
     "text": [
      "Data has been written to /Users/abithapasupuleti/Desktop/Book1.csv\n"
     ]
    }
   ],
   "source": [
    "import csv\n",
    "data = zip(community_title, price, Bedrooms, Address, top_one_amenity, top_two_amenity, top_three_amenity, offer)\n",
    "\n",
    "# Specify the CSV file path\n",
    "csv_file = '/Users/abithapasupuleti/Desktop/Book1.csv'\n",
    "\n",
    "# Write data to CSV file\n",
    "with open(csv_file, 'w', newline='') as file:\n",
    "    writer = csv.writer(file)\n",
    "    \n",
    "    # Write header\n",
    "    writer.writerow(['Community Title', 'Price', 'Bedrooms', 'Address', 'Top 1 Amenity', 'Top 2 Amenity', 'Top 3 Amenity', 'Offer'])\n",
    "    \n",
    "    # Write data rows\n",
    "    for row in data:\n",
    "        writer.writerow(row)\n",
    "\n",
    "print(\"Data has been written to\", csv_file)"
   ]
  },
  {
   "cell_type": "markdown",
   "id": "7a5ddb75",
   "metadata": {},
   "source": [
    "### *************************"
   ]
  },
  {
   "cell_type": "code",
   "execution_count": null,
   "id": "4c945818",
   "metadata": {},
   "outputs": [],
   "source": []
  }
 ],
 "metadata": {
  "kernelspec": {
   "display_name": "Python 3 (ipykernel)",
   "language": "python",
   "name": "python3"
  },
  "language_info": {
   "codemirror_mode": {
    "name": "ipython",
    "version": 3
   },
   "file_extension": ".py",
   "mimetype": "text/x-python",
   "name": "python",
   "nbconvert_exporter": "python",
   "pygments_lexer": "ipython3",
   "version": "3.11.4"
  }
 },
 "nbformat": 4,
 "nbformat_minor": 5
}
